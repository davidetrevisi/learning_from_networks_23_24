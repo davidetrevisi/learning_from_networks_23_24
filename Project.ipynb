{
 "cells": [
  {
   "cell_type": "markdown",
   "metadata": {
    "id": "p1OEOI_pWNTA"
   },
   "source": [
    "# Road analysis of capital provinces of Veneto\n",
    "\n",
    "Authors: Biffis Nicola, Pavan Stefano, Trevisi Davide"
   ]
  },
  {
   "cell_type": "markdown",
   "metadata": {},
   "source": [
    "### Utilities"
   ]
  },
  {
   "cell_type": "markdown",
   "metadata": {},
   "source": [
    "#### **NOTE**: The cell below is only needed when working in the Google Colab environment"
   ]
  },
  {
   "cell_type": "code",
   "execution_count": null,
   "metadata": {
    "id": "rgkax7wCvn8g",
    "scrolled": true
   },
   "outputs": [],
   "source": [
    "!pip install osmnx mapclassify"
   ]
  },
  {
   "cell_type": "markdown",
   "metadata": {},
   "source": [
    "#### Libraries"
   ]
  },
  {
   "cell_type": "code",
   "execution_count": null,
   "metadata": {
    "id": "wO5qYtBNvRg6"
   },
   "outputs": [],
   "source": [
    "import matplotlib.pyplot as plt\n",
    "import seaborn as sns\n",
    "import pandas as pd\n",
    "import osmnx as ox\n",
    "import networkx as nx\n",
    "from functools import reduce\n",
    "\n",
    "pd.set_option('display.max_rows', 8)\n",
    "pd.set_option('display.colheader_justify', 'center')\n",
    "pd.set_option('display.precision', 7)"
   ]
  },
  {
   "cell_type": "markdown",
   "metadata": {},
   "source": [
    "#### Constants"
   ]
  },
  {
   "cell_type": "code",
   "execution_count": null,
   "metadata": {},
   "outputs": [],
   "source": [
    "N = 30\n",
    "X = 5.0"
   ]
  },
  {
   "cell_type": "markdown",
   "metadata": {},
   "source": [
    "### Graph creation process"
   ]
  },
  {
   "cell_type": "markdown",
   "metadata": {
    "id": "twAjAFnxU1yR"
   },
   "source": [
    "Firstly extract the graph of the intended city from the OSM database with extended boundaries of 500 meters and an intersection tolerance of 15 meters, based on the experimentation, so the bigger intersections are treated as a single node."
   ]
  },
  {
   "cell_type": "code",
   "execution_count": null,
   "metadata": {},
   "outputs": [],
   "source": [
    "G_Belluno = ox.graph_from_place('Belluno, 32100, Veneto, Italy', network_type=\"drive\", simplify=True)\n",
    "G_Padova = ox.graph_from_place('Padova, Veneto, Italy', network_type=\"drive\", simplify=True)\n",
    "G_Rovigo = ox.graph_from_place('Rovigo, 45100, Veneto, Italy', network_type=\"drive\", simplify=True)\n",
    "G_Treviso = ox.graph_from_place('Treviso, 31100, Veneto, Italy', network_type=\"drive\", simplify=True)\n",
    "G_Verona = ox.graph_from_place('Verona, Veneto, Italy', network_type=\"drive\", simplify=True)\n",
    "G_Vicenza = ox.graph_from_place('Vicenza, 36100, Veneto, Italy', network_type=\"drive\", simplify=True)\n",
    "\n",
    "G_Belluno_proj = ox.project_graph(G_Belluno)\n",
    "G_Padova_proj = ox.project_graph(G_Padova)\n",
    "G_Rovigo_proj = ox.project_graph(G_Rovigo)\n",
    "G_Treviso_proj = ox.project_graph(G_Treviso)\n",
    "G_Verona_proj = ox.project_graph(G_Verona)\n",
    "G_Vicenza_proj = ox.project_graph(G_Vicenza)\n",
    "\n",
    "G_Belluno_final = ox.consolidate_intersections(G_Belluno_proj , rebuild_graph=True, tolerance=15, dead_ends=False)\n",
    "G_Padova_final = ox.consolidate_intersections(G_Padova_proj , rebuild_graph=True, tolerance=15, dead_ends=False)\n",
    "G_Rovigo_final = ox.consolidate_intersections(G_Rovigo_proj , rebuild_graph=True, tolerance=15, dead_ends=False)\n",
    "G_Treviso_final = ox.consolidate_intersections(G_Treviso_proj , rebuild_graph=True, tolerance=15, dead_ends=False)\n",
    "G_Verona_final = ox.consolidate_intersections(G_Verona_proj , rebuild_graph=True, tolerance=15, dead_ends=False)\n",
    "G_Vicenza_final = ox.consolidate_intersections(G_Vicenza_proj , rebuild_graph=True, tolerance=15, dead_ends=False)"
   ]
  },
  {
   "cell_type": "code",
   "execution_count": null,
   "metadata": {},
   "outputs": [],
   "source": [
    "ox.save_graphml(G_Belluno_final, \"./graphs/belluno.graphml\")\n",
    "ox.save_graphml(G_Padova_final, \"./graphs/padova.graphml\")\n",
    "ox.save_graphml(G_Rovigo_final, \"./graphs/rovigo.graphml\")\n",
    "ox.save_graphml(G_Treviso_final, \"./graphs/treviso.graphml\")\n",
    "ox.save_graphml(G_Verona_final, \"./graphs/verona.graphml\")\n",
    "ox.save_graphml(G_Vicenza_final, \"./graphs/vicenza.graphml\")"
   ]
  },
  {
   "cell_type": "markdown",
   "metadata": {
    "id": "QFTmxqr8RRnx"
   },
   "source": [
    "## Analysis"
   ]
  },
  {
   "cell_type": "code",
   "execution_count": null,
   "metadata": {},
   "outputs": [],
   "source": [
    "G_Belluno_final = ox.load_graphml(\"./graphs/belluno.graphml\")\n",
    "G_Padova_final = ox.load_graphml(\"./graphs/padova.graphml\")\n",
    "G_Rovigo_final = ox.load_graphml(\"./graphs/rovigo.graphml\")\n",
    "G_Treviso_final = ox.load_graphml(\"./graphs/treviso.graphml\")\n",
    "G_Verona_final = ox.load_graphml(\"./graphs/verona.graphml\")\n",
    "G_Vicenza_final = ox.load_graphml(\"./graphs/vicenza.graphml\")"
   ]
  },
  {
   "cell_type": "code",
   "execution_count": null,
   "metadata": {},
   "outputs": [],
   "source": [
    "G = G_Treviso_final"
   ]
  },
  {
   "cell_type": "markdown",
   "metadata": {
    "id": "X7t8e5txVhYk"
   },
   "source": [
    "Visualize the generated graph on the map"
   ]
  },
  {
   "cell_type": "code",
   "execution_count": null,
   "metadata": {},
   "outputs": [],
   "source": [
    "nodes, edges = ox.graph_to_gdfs(G)\n",
    "m = edges.explore()\n",
    "nodes.explore(m=m, marker_kwds={\"radius\": 4})"
   ]
  },
  {
   "cell_type": "markdown",
   "metadata": {},
   "source": [
    "Compute all the centralities, sort them by decreasing order and deduplicate the edges"
   ]
  },
  {
   "cell_type": "code",
   "execution_count": null,
   "metadata": {},
   "outputs": [],
   "source": [
    "# Weighted betweenness centrality\n",
    "weighted_node_bc = nx.betweenness_centrality(G, weight='length')\n",
    "weighted_edge_bc = nx.edge_betweenness_centrality(G, weight='length')\n",
    "\n",
    "# Unweighted betweenness centrality\n",
    "unweighted_node_bc = nx.betweenness_centrality(G, weight=None)\n",
    "unweighted_edge_bc = nx.edge_betweenness_centrality(G, weight=None)\n",
    "\n",
    "# Weighted closeness centrality\n",
    "weighted_node_cc = nx.closeness_centrality(G, distance='length')\n",
    "\n",
    "# Unweighted closeness centrality\n",
    "unweighted_node_cc = nx.closeness_centrality(G, distance=None)\n",
    "\n",
    "nx.set_node_attributes(G, weighted_node_bc, \"weighted betweenness centrality\")\n",
    "nx.set_edge_attributes(G, weighted_edge_bc, \"weighted betweenness centrality\")\n",
    "nx.set_node_attributes(G, unweighted_node_bc, \"unweighted betweenness centrality\")\n",
    "nx.set_edge_attributes(G, unweighted_edge_bc, \"unweighted betweenness centrality\")\n",
    "nx.set_node_attributes(G, weighted_node_cc, \"weighted closeness centrality\")\n",
    "nx.set_node_attributes(G, unweighted_node_cc, \"unweighted closeness centrality\")\n",
    "\n",
    "# Sort by decreasing order\n",
    "sorted_weighted_node_bc = sorted(weighted_node_bc.items(), key=lambda x: -x[1])\n",
    "sorted_weighted_edge_bc = sorted(weighted_edge_bc.items(), key=lambda x: -x[1])\n",
    "sorted_unweighted_node_bc = sorted(unweighted_node_bc.items(), key=lambda x: -x[1])\n",
    "sorted_unweighted_edge_bc = sorted(unweighted_edge_bc.items(), key=lambda x: -x[1])\n",
    "sorted_weighted_node_cc = sorted(weighted_node_cc.items(), key=lambda x: -x[1])\n",
    "sorted_unweighted_node_cc = sorted(unweighted_node_cc.items(), key=lambda x: -x[1])\n",
    "\n",
    "# Deduplicate the edges\n",
    "for i in sorted_weighted_edge_bc:\n",
    "    u = i[0][1]\n",
    "    v = i[0][0]\n",
    "    for j in sorted_weighted_edge_bc:\n",
    "        if j[0][0] == u:\n",
    "            if j[0][1] == v:\n",
    "                sorted_weighted_edge_bc.remove(j)\n",
    "\n",
    "# Deduplicate the edges\n",
    "for i in sorted_unweighted_edge_bc:\n",
    "    u = i[0][1]\n",
    "    v = i[0][0]\n",
    "    for j in sorted_unweighted_edge_bc:\n",
    "        if j[0][0] == u:\n",
    "            if j[0][1] == v:\n",
    "                sorted_unweighted_edge_bc.remove(j)"
   ]
  },
  {
   "cell_type": "markdown",
   "metadata": {},
   "source": [
    "Print the weighted betweenness centrality of nodes"
   ]
  },
  {
   "cell_type": "code",
   "execution_count": null,
   "metadata": {
    "scrolled": true
   },
   "outputs": [],
   "source": [
    "# Print the nodes id and centrality scores\n",
    "nodes_data = []\n",
    "\n",
    "for n in sorted_weighted_node_bc:\n",
    "    nodes_data.append([n[0], n[1]])\n",
    "\n",
    "sorted_weighted_node_bc_df = pd.DataFrame(nodes_data, columns=[\"ID\", \"Weighted Betweenness Centrality\"])\n",
    "display(sorted_weighted_node_bc_df)"
   ]
  },
  {
   "cell_type": "markdown",
   "metadata": {},
   "source": [
    "Print the unweighted betweenness centrality of nodes"
   ]
  },
  {
   "cell_type": "code",
   "execution_count": null,
   "metadata": {
    "scrolled": true
   },
   "outputs": [],
   "source": [
    "# Print the nodes id and centrality scores\n",
    "nodes_data = []\n",
    "\n",
    "for n in sorted_unweighted_node_bc:\n",
    "    nodes_data.append([n[0], n[1]])\n",
    "\n",
    "sorted_unweighted_node_bc_df = pd.DataFrame(nodes_data, columns=[\"ID\", \"Unweighted Betweenness Centrality\"])\n",
    "display(sorted_unweighted_node_bc_df)"
   ]
  },
  {
   "cell_type": "markdown",
   "metadata": {},
   "source": [
    "Print the weighted closeness centrality of nodes"
   ]
  },
  {
   "cell_type": "code",
   "execution_count": null,
   "metadata": {
    "scrolled": true
   },
   "outputs": [],
   "source": [
    "# Print the nodes id and centrality scores\n",
    "nodes_data = []\n",
    "\n",
    "for n in sorted_weighted_node_cc:\n",
    "    nodes_data.append([n[0], n[1]])\n",
    "\n",
    "sorted_weighted_node_cc_df = pd.DataFrame(nodes_data, columns=[\"ID\", \"Weighted Closeness Centrality\"])\n",
    "display(sorted_weighted_node_cc_df)"
   ]
  },
  {
   "cell_type": "markdown",
   "metadata": {},
   "source": [
    "Print the unweighted closeness centrality of nodes"
   ]
  },
  {
   "cell_type": "code",
   "execution_count": null,
   "metadata": {
    "scrolled": true
   },
   "outputs": [],
   "source": [
    "# Print the nodes id and centrality scores\n",
    "nodes_data = []\n",
    "\n",
    "for n in sorted_unweighted_node_cc:\n",
    "    nodes_data.append([n[0], n[1]])\n",
    "\n",
    "sorted_unweighted_node_cc_df = pd.DataFrame(nodes_data, columns=[\"ID\", \"Unweighted Closeness Centrality\"])\n",
    "display(sorted_unweighted_node_cc_df)"
   ]
  },
  {
   "cell_type": "markdown",
   "metadata": {},
   "source": [
    "Put them all in a single table, sorted by weighted betweenness centrality of nodes"
   ]
  },
  {
   "cell_type": "code",
   "execution_count": null,
   "metadata": {
    "scrolled": true
   },
   "outputs": [],
   "source": [
    "dfs = [sorted_weighted_node_bc_df, sorted_unweighted_node_bc_df, sorted_weighted_node_cc_df, sorted_unweighted_node_cc_df]\n",
    "\n",
    "merged_nodes_df = reduce(lambda left, right: pd.merge(left, right, on=['ID'], how='outer'), dfs)\n",
    "merged_nodes_df.sort_values(by=[\"Weighted Betweenness Centrality\", \"Unweighted Betweenness Centrality\", \"Weighted Closeness Centrality\", \"Unweighted Closeness Centrality\"], inplace=True, ascending = [False, False, False, False])\n",
    "display(merged_nodes_df)"
   ]
  },
  {
   "cell_type": "markdown",
   "metadata": {},
   "source": [
    "Print the weighted betweenness centrality of edges"
   ]
  },
  {
   "cell_type": "code",
   "execution_count": null,
   "metadata": {
    "scrolled": true
   },
   "outputs": [],
   "source": [
    "# Print the edges name and centrality scores\n",
    "edges_data = []\n",
    "\n",
    "for e in sorted_weighted_edge_bc:\n",
    "    if \"name\" in G.edges[e[0]]:\n",
    "        name = G.edges[e[0]][\"name\"]\n",
    "        if isinstance(name, list):\n",
    "            edges_data.append([\" - \".join(name), e[1]])\n",
    "        else:\n",
    "            edges_data.append([G.edges[e[0]][\"name\"], e[1]])\n",
    "    elif \"ref\" in G.edges[e[0]]:\n",
    "        name = G.edges[e[0]][\"ref\"]\n",
    "        if isinstance(name, list):\n",
    "            edges_data.append([\" - \".join([str(n) for n in name]), e[1]])\n",
    "        else:\n",
    "            edges_data.append([G.edges[e[0]][\"ref\"], e[1]])\n",
    "    else:\n",
    "        id = G.edges[e[0]][\"osmid\"]\n",
    "        if isinstance(id, list):\n",
    "            edges_data.append([\" - \".join([str(n) for n in id]), e[1]])\n",
    "        else:\n",
    "            edges_data.append([G.edges[e[0]][\"osmid\"], e[1]])\n",
    "\n",
    "sorted_weighted_edge_bc_df = pd.DataFrame(edges_data, columns=[\"Name\", \"Weighted Betweenness Centrality Score\"])\n",
    "display(sorted_weighted_edge_bc_df)"
   ]
  },
  {
   "cell_type": "markdown",
   "metadata": {},
   "source": [
    "Print the unweighted betweenness centrality of edges"
   ]
  },
  {
   "cell_type": "code",
   "execution_count": null,
   "metadata": {
    "scrolled": true
   },
   "outputs": [],
   "source": [
    "# Print the edges name and centrality scores\n",
    "edges_data = []\n",
    "\n",
    "for e in sorted_unweighted_edge_bc:\n",
    "    if \"name\" in G.edges[e[0]]:\n",
    "        name = G.edges[e[0]][\"name\"]\n",
    "        if isinstance(name, list):\n",
    "            edges_data.append([\" - \".join(name), e[1]])\n",
    "        else:\n",
    "            edges_data.append([G.edges[e[0]][\"name\"], e[1]])\n",
    "    elif \"ref\" in G.edges[e[0]]:\n",
    "        name = G.edges[e[0]][\"ref\"]\n",
    "        if isinstance(name, list):\n",
    "            edges_data.append([\" - \".join([str(n) for n in name]), e[1]])\n",
    "        else:\n",
    "            edges_data.append([G.edges[e[0]][\"ref\"], e[1]])\n",
    "    else:\n",
    "        id = G.edges[e[0]][\"osmid\"]\n",
    "        if isinstance(id, list):\n",
    "            edges_data.append([\" - \".join([str(n) for n in id]), e[1]])\n",
    "        else:\n",
    "            edges_data.append([G.edges[e[0]][\"osmid\"], e[1]])\n",
    "\n",
    "sorted_unweighted_edge_bc_df = pd.DataFrame(edges_data, columns=[\"Name\", \"Unweighted Betweenness Centrality Score\"])\n",
    "display(sorted_unweighted_edge_bc_df)"
   ]
  },
  {
   "cell_type": "markdown",
   "metadata": {},
   "source": [
    "Put them all in a single table, sorted by weighted betweenness centrality of edges"
   ]
  },
  {
   "cell_type": "code",
   "execution_count": null,
   "metadata": {
    "scrolled": true
   },
   "outputs": [],
   "source": [
    "dfs = [sorted_weighted_edge_bc_df, sorted_unweighted_edge_bc_df]\n",
    "\n",
    "merged_edges_df = reduce(lambda left, right: pd.merge(left, right, on=['Name'], how='outer'), dfs)\n",
    "merged_edges_df.sort_values(by=[\"Weighted Betweenness Centrality Score\", \"Unweighted Betweenness Centrality Score\"], inplace=True, ascending = [False, False])\n",
    "display(merged_edges_df)"
   ]
  },
  {
   "cell_type": "code",
   "execution_count": null,
   "metadata": {},
   "outputs": [],
   "source": [
    "city = \"\"\n",
    "\n",
    "if (G == G_Belluno_final):\n",
    "    city = \"Belluno\"\n",
    "elif (G == G_Padova_final):\n",
    "    city = \"Padova\"\n",
    "elif (G == G_Rovigo_final):\n",
    "    city = \"Rovigo\"\n",
    "elif (G == G_Treviso_final):\n",
    "    city = \"Treviso\"\n",
    "elif (G == G_Verona_final):\n",
    "    city = \"Verona\"\n",
    "elif (G == G_Vicenza_final):\n",
    "    city = \"Vicenza\"\n",
    "else:\n",
    "    city = \"ERROR\""
   ]
  },
  {
   "cell_type": "markdown",
   "metadata": {},
   "source": [
    "Print the plot of the weighted betwenness centrality"
   ]
  },
  {
   "cell_type": "code",
   "execution_count": null,
   "metadata": {
    "scrolled": true
   },
   "outputs": [],
   "source": [
    "nodes, edges = ox.graph_to_gdfs(G)\n",
    "\n",
    "fig, ax = plt.subplots(nrows=2)\n",
    "\n",
    "sns.ecdfplot(edges, x='weighted betweenness centrality', ax=ax[0])\n",
    "ax[0].set_xscale('log')\n",
    "ax[0].set_title('Street weighted centrality cumulative distribution')\n",
    "\n",
    "sns.ecdfplot(nodes, x='weighted betweenness centrality', ax=ax[1])\n",
    "ax[1].set_xscale('log')\n",
    "ax[1].set_title('Junctions weighted betweenness centrality cumulative distribution')\n",
    "\n",
    "fig.suptitle('Cumulative weighted betweenness centrality of ' + city, fontsize=16)\n",
    "fig.set_size_inches(10, 10)\n",
    "fig.tight_layout()\n",
    "plt.savefig('figures/cdf-' + city + '.png', dpi=300)"
   ]
  },
  {
   "cell_type": "markdown",
   "metadata": {},
   "source": [
    "Print the plot of the unweighted betwenness centrality"
   ]
  },
  {
   "cell_type": "code",
   "execution_count": null,
   "metadata": {
    "scrolled": true
   },
   "outputs": [],
   "source": [
    "nodes, edges = ox.graph_to_gdfs(G)\n",
    "\n",
    "fig, ax = plt.subplots(nrows=2)\n",
    "\n",
    "sns.ecdfplot(edges, x='unweighted betweenness centrality', ax=ax[0])\n",
    "ax[0].set_xscale('log')\n",
    "ax[0].set_title('Street unweighted centrality cumulative distribution')\n",
    "\n",
    "sns.ecdfplot(nodes, x='unweighted betweenness centrality', ax=ax[1])\n",
    "ax[1].set_xscale('log')\n",
    "ax[1].set_title('Junctions unweighted betweenness centrality cumulative distribution')\n",
    "\n",
    "fig.suptitle('Cumulative unweighted betweenness centrality of ' + city, fontsize=16)\n",
    "fig.set_size_inches(10, 10)\n",
    "fig.tight_layout()\n",
    "plt.savefig('figures/cdf-' + city + '.png', dpi=300)"
   ]
  },
  {
   "cell_type": "markdown",
   "metadata": {},
   "source": [
    "Print the plot of the un/weighted closeness centrality"
   ]
  },
  {
   "cell_type": "code",
   "execution_count": null,
   "metadata": {
    "scrolled": true
   },
   "outputs": [],
   "source": [
    "nodes, edges = ox.graph_to_gdfs(G)\n",
    "\n",
    "fig, ax = plt.subplots(nrows=2)\n",
    "\n",
    "sns.ecdfplot(nodes, x='weighted closeness centrality', ax=ax[0])\n",
    "ax[0].set_xscale('log')\n",
    "ax[0].set_title('Junctions weighted closeness centrality cumulative distribution')\n",
    "\n",
    "sns.ecdfplot(nodes, x='unweighted closeness centrality', ax=ax[1])\n",
    "ax[1].set_xscale('log')\n",
    "ax[1].set_title('Junctions unweighted closeness centrality cumulative distribution')\n",
    "\n",
    "fig.suptitle('Cumulative closeness centrality of ' + city, fontsize=16)\n",
    "fig.set_size_inches(10, 10)\n",
    "fig.tight_layout()\n",
    "plt.savefig('figures/cdf-' + city + '.png', dpi=300)"
   ]
  },
  {
   "cell_type": "markdown",
   "metadata": {},
   "source": [
    "Visualize the weighted betweenness centrality of the edges on the map"
   ]
  },
  {
   "cell_type": "code",
   "execution_count": null,
   "metadata": {
    "scrolled": true
   },
   "outputs": [],
   "source": [
    "nodes, edges = ox.graph_to_gdfs(G)\n",
    "edges.explore(tiles=\"cartodbdarkmatter\", column=\"weighted betweenness centrality\", cmap=\"plasma\")"
   ]
  },
  {
   "cell_type": "markdown",
   "metadata": {},
   "source": [
    "Visualize the unweighted betweenness centrality of the edges on the map"
   ]
  },
  {
   "cell_type": "code",
   "execution_count": null,
   "metadata": {
    "scrolled": true
   },
   "outputs": [],
   "source": [
    "nodes, edges = ox.graph_to_gdfs(G)\n",
    "edges.explore(tiles=\"cartodbdarkmatter\", column=\"unweighted betweenness centrality\", cmap=\"plasma\")"
   ]
  },
  {
   "cell_type": "markdown",
   "metadata": {},
   "source": [
    "Visualize the weighted betweenness centrality of the nodes on the map"
   ]
  },
  {
   "cell_type": "code",
   "execution_count": null,
   "metadata": {
    "scrolled": true
   },
   "outputs": [],
   "source": [
    "nodes, edges = ox.graph_to_gdfs(G)\n",
    "nodes.explore(tiles=\"cartodbdarkmatter\", column=\"weighted betweenness centrality\", cmap=\"plasma\")"
   ]
  },
  {
   "cell_type": "markdown",
   "metadata": {},
   "source": [
    "Visualize the unweighted betweenness centrality of the nodes on the map"
   ]
  },
  {
   "cell_type": "code",
   "execution_count": null,
   "metadata": {
    "scrolled": true
   },
   "outputs": [],
   "source": [
    "nodes, edges = ox.graph_to_gdfs(G)\n",
    "nodes.explore(tiles=\"cartodbdarkmatter\", column=\"unweighted betweenness centrality\", cmap=\"plasma\")"
   ]
  },
  {
   "cell_type": "markdown",
   "metadata": {},
   "source": [
    "Visualize the weighted closeness centrality of the nodes on the map"
   ]
  },
  {
   "cell_type": "code",
   "execution_count": null,
   "metadata": {
    "scrolled": true
   },
   "outputs": [],
   "source": [
    "nodes, edges = ox.graph_to_gdfs(G)\n",
    "nodes.explore(tiles=\"cartodbdarkmatter\", column=\"weighted closeness centrality\", cmap=\"plasma\")"
   ]
  },
  {
   "cell_type": "markdown",
   "metadata": {},
   "source": [
    "Visualize the unweighted closeness centrality of the nodes on the map"
   ]
  },
  {
   "cell_type": "code",
   "execution_count": null,
   "metadata": {
    "scrolled": true
   },
   "outputs": [],
   "source": [
    "nodes, edges = ox.graph_to_gdfs(G)\n",
    "nodes.explore(tiles=\"cartodbdarkmatter\", column=\"unweighted closeness centrality\", cmap=\"plasma\")"
   ]
  },
  {
   "cell_type": "markdown",
   "metadata": {},
   "source": [
    "Visualize the map with top N streets"
   ]
  },
  {
   "cell_type": "code",
   "execution_count": null,
   "metadata": {
    "scrolled": true
   },
   "outputs": [],
   "source": [
    "nodes = [n[0] for n in sorted_weighted_node_bc[:N]]\n",
    "edges = [n[0] for n in sorted_weighted_edge_bc[:N]]\n",
    "\n",
    "Subgraph_nodes = G.subgraph(nodes)\n",
    "Subgraph_edges = G.edge_subgraph(edges) \n",
    "\n",
    "Subgraph_nodes_nodes, Subgraph_nodes_edges = ox.graph_to_gdfs(Subgraph_nodes)\n",
    "Subgraph_edges_nodes, Subgraph_edges_edges = ox.graph_to_gdfs(Subgraph_edges)\n",
    "\n",
    "Subgraph_edges_edges.explore(tiles=\"cartodbdarkmatter\", column=\"weighted betweenness centrality\", cmap=\"plasma\")\n",
    "#Subgraph_nodes_nodes.explore(m=m, tiles=\"cartodbdarkmatter\", column=\"weighted betweenness centrality\", marker_kwds={\"radius\": 5})"
   ]
  },
  {
   "cell_type": "markdown",
   "metadata": {},
   "source": [
    "Visualize the map with top Top N intersections overlayed over the top N streets"
   ]
  },
  {
   "cell_type": "code",
   "execution_count": null,
   "metadata": {
    "scrolled": true
   },
   "outputs": [],
   "source": [
    "nodes = [n[0] for n in sorted_weighted_node_bc[:N]]\n",
    "edges = [n[0] for n in sorted_weighted_edge_bc[:N]]\n",
    "\n",
    "Subgraph_nodes = G.subgraph(nodes)\n",
    "Subgraph_edges = G.edge_subgraph(edges) \n",
    "\n",
    "Subgraph_nodes_nodes, Subgraph_nodes_edges = ox.graph_to_gdfs(Subgraph_nodes)\n",
    "Subgraph_edges_nodes, Subgraph_edges_edges = ox.graph_to_gdfs(Subgraph_edges)\n",
    "\n",
    "m = Subgraph_edges_edges.explore(tiles=\"cartodbdarkmatter\", color=\"gray\")\n",
    "Subgraph_nodes_nodes.explore(m=m, tiles=\"cartodbdarkmatter\", column=\"weighted betweenness centrality\", marker_kwds={\"radius\": 5})"
   ]
  },
  {
   "cell_type": "markdown",
   "metadata": {},
   "source": [
    "Same but with unweighted centrality"
   ]
  },
  {
   "cell_type": "code",
   "execution_count": null,
   "metadata": {
    "scrolled": true
   },
   "outputs": [],
   "source": [
    "nodes = [n[0] for n in sorted_weighted_node_bc[:N]]\n",
    "edges = [n[0] for n in sorted_weighted_edge_bc[:N]]\n",
    "\n",
    "Subgraph_nodes = G.subgraph(nodes)\n",
    "Subgraph_edges = G.edge_subgraph(edges) \n",
    "\n",
    "Subgraph_nodes_nodes, Subgraph_nodes_edges = ox.graph_to_gdfs(Subgraph_nodes)\n",
    "Subgraph_edges_nodes, Subgraph_edges_edges = ox.graph_to_gdfs(Subgraph_edges)\n",
    "\n",
    "m = Subgraph_edges_edges.explore(tiles=\"cartodbdarkmatter\", color=\"gray\")\n",
    "Subgraph_nodes_nodes.explore(m=m, tiles=\"cartodbdarkmatter\", column=\"unweighted betweenness centrality\", marker_kwds={\"radius\": 5})"
   ]
  },
  {
   "cell_type": "markdown",
   "metadata": {},
   "source": [
    "Visualize the map with top X % streets and intersections"
   ]
  },
  {
   "cell_type": "code",
   "execution_count": null,
   "metadata": {
    "scrolled": true
   },
   "outputs": [],
   "source": [
    "node_top_X_perc = (G.number_of_nodes() * X) / 100.0\n",
    "edge_top_X_perc = (G.number_of_edges() * X) / 100.0\n",
    "\n",
    "nodes = [n[0] for n in sorted_weighted_node_bc[:round(node_top_X_perc)]]\n",
    "edges = [n[0] for n in sorted_weighted_edge_bc[:round(edge_top_X_perc)]]\n",
    "\n",
    "Subgraph_nodes = G.subgraph(nodes)\n",
    "Subgraph_edges = G.edge_subgraph(edges)\n",
    "\n",
    "Subgraph_nodes_nodes, Subgraph_nodes_edges = ox.graph_to_gdfs(Subgraph_nodes)\n",
    "Subgraph_edges_nodes, Subgraph_edges_edges = ox.graph_to_gdfs(Subgraph_edges)\n",
    "\n",
    "m = Subgraph_edges_edges.explore(tiles=\"cartodbdarkmatter\", column=\"weighted betweenness centrality\", cmap=\"plasma\")\n",
    "Subgraph_nodes_nodes.explore(m=m, tiles=\"cartodbdarkmatter\", color=\"gray\", marker_kwds={\"radius\": 5})"
   ]
  },
  {
   "cell_type": "markdown",
   "metadata": {},
   "source": [
    "Visualize the map with top X % streets"
   ]
  },
  {
   "cell_type": "code",
   "execution_count": null,
   "metadata": {},
   "outputs": [],
   "source": [
    "edge_top_X_perc = (G.number_of_edges() * X) / 100.0\n",
    "\n",
    "edges = [n[0] for n in sorted_weighted_edge_bc[:round(edge_top_X_perc)]]\n",
    "\n",
    "Subgraph_edges = G.edge_subgraph(edges)\n",
    "\n",
    "Subgraph_edges_nodes, Subgraph_edges_edges = ox.graph_to_gdfs(Subgraph_edges)\n",
    "\n",
    "Subgraph_edges_edges.explore(tiles=\"cartodbdarkmatter\", column=\"weighted betweenness centrality\", cmap=\"plasma\")"
   ]
  }
 ],
 "metadata": {
  "colab": {
   "collapsed_sections": [
    "p1OEOI_pWNTA",
    "QFTmxqr8RRnx",
    "eyPqIaWFR0qF",
    "AmCV5pPNTFUF",
    "5Vn0CRaQTIBB",
    "ka0wG3BpTL30",
    "5KnQjY4MTM7U"
   ],
   "provenance": []
  },
  "kernelspec": {
   "display_name": "Python 3 (ipykernel)",
   "language": "python",
   "name": "python3"
  },
  "language_info": {
   "codemirror_mode": {
    "name": "ipython",
    "version": 3
   },
   "file_extension": ".py",
   "mimetype": "text/x-python",
   "name": "python",
   "nbconvert_exporter": "python",
   "pygments_lexer": "ipython3",
   "version": "3.12.0"
  }
 },
 "nbformat": 4,
 "nbformat_minor": 4
}
