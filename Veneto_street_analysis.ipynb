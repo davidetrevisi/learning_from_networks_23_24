{
  "cells": [
    {
      "cell_type": "markdown",
      "source": [
        "# Road analysis of capital provinces of Veneto\n",
        "\n",
        "Authors: Biffis Nicola, Pavan Stefano, Trevisi Davide"
      ],
      "metadata": {
        "id": "p1OEOI_pWNTA"
      }
    },
    {
      "cell_type": "code",
      "execution_count": null,
      "metadata": {
        "id": "rgkax7wCvn8g"
      },
      "outputs": [],
      "source": [
        "!pip install osmnx"
      ]
    },
    {
      "cell_type": "code",
      "execution_count": null,
      "metadata": {
        "collapsed": true,
        "id": "wO5qYtBNvRg6"
      },
      "outputs": [],
      "source": [
        "import matplotlib\n",
        "import pickle\n",
        "import folium\n",
        "\n",
        "import matplotlib.pyplot as plt\n",
        "import seaborn as sns\n",
        "import osmnx as ox\n",
        "import networkx as nx"
      ]
    },
    {
      "cell_type": "markdown",
      "metadata": {
        "id": "twAjAFnxU1yR"
      },
      "source": [
        "Firstly extract the graph of the intended city from the OSM database with extended boundaries of 5km and an intersection tolerance of 20 meters, based on the experimentation, so the bigger intersections are treated as a single node, and roundabouts are still separated to multiple nodes."
      ]
    },
    {
      "cell_type": "code",
      "execution_count": null,
      "metadata": {
        "id": "QiUHj190vRhC"
      },
      "outputs": [],
      "source": [
        "G_Belluno = ox.graph_from_place('Belluno, 32100, Veneto, Italy', network_type=\"drive\", simplify=True, clean_periphery=True)\n",
        "G_Padova = ox.graph_from_place('Padova, Veneto, Italy', network_type=\"drive\", simplify=True, clean_periphery=True)\n",
        "G_Rovigo = ox.graph_from_place('Rovigo, 45100, Veneto, Italy', network_type=\"drive\", simplify=True, clean_periphery=True)\n",
        "G_Treviso = ox.graph_from_place('Treviso, 31100, Veneto, Italy', network_type=\"drive\", simplify=True, clean_periphery=True)\n",
        "G_Verona = ox.graph_from_place('Verona, Veneto, Italy', network_type=\"drive\", simplify=True, clean_periphery=True)\n",
        "G_Vicenza = ox.graph_from_place('Vicenza, 36100, Veneto, Italy', network_type=\"drive\", simplify=True, clean_periphery=True)"
      ]
    },
    {
      "cell_type": "markdown",
      "metadata": {
        "id": "X7t8e5txVhYk"
      },
      "source": [
        "Visualize the generated graph on the map"
      ]
    },
    {
      "cell_type": "code",
      "execution_count": null,
      "metadata": {
        "id": "20kP8h5AQFgm"
      },
      "outputs": [],
      "source": [
        "G_Belluno_proj = ox.project_graph(G_Belluno)\n",
        "G_Padova_proj = ox.project_graph(G_Padova)\n",
        "G_Rovigo_proj = ox.project_graph(G_Rovigo)\n",
        "G_Treviso_proj = ox.project_graph(G_Treviso)\n",
        "G_Verona_proj = ox.project_graph(G_Verona)\n",
        "G_Vicenza_proj = ox.project_graph(G_Vicenza)"
      ]
    },
    {
      "cell_type": "code",
      "execution_count": null,
      "metadata": {
        "id": "7Dc2GLoKQJ4X"
      },
      "outputs": [],
      "source": [
        "G_Belluno_final = ox.consolidate_intersections(G_Belluno_proj , rebuild_graph=True, tolerance=15, dead_ends=False)\n",
        "G_Padova_final = ox.consolidate_intersections(G_Padova_proj , rebuild_graph=True, tolerance=15, dead_ends=False)\n",
        "G_Rovigo_final = ox.consolidate_intersections(G_Rovigo_proj , rebuild_graph=True, tolerance=15, dead_ends=False)\n",
        "G_Treviso_final = ox.consolidate_intersections(G_Treviso_proj , rebuild_graph=True, tolerance=15, dead_ends=False)\n",
        "G_Verona_final = ox.consolidate_intersections(G_Verona_proj , rebuild_graph=True, tolerance=15, dead_ends=False)\n",
        "G_Vicenza_final = ox.consolidate_intersections(G_Vicenza_proj , rebuild_graph=True, tolerance=15, dead_ends=False)"
      ]
    },
    {
      "cell_type": "markdown",
      "metadata": {
        "id": "QFTmxqr8RRnx"
      },
      "source": [
        "##Belluno"
      ]
    },
    {
      "cell_type": "code",
      "execution_count": null,
      "metadata": {
        "id": "E7vVRLtCvRhH"
      },
      "outputs": [],
      "source": [
        "nodes, streets = ox.graph_to_gdfs(G_Belluno_final)\n",
        "m = folium.Map(location=ox.geocode(\"Belluno\"))\n",
        "folium.GeoJson(streets).add_to(m)\n",
        "folium.GeoJson(nodes, marker=folium.CircleMarker(radius=3)).add_to(m)\n",
        "m"
      ]
    },
    {
      "cell_type": "markdown",
      "metadata": {
        "id": "oIWYGX-AVnzP"
      },
      "source": [
        "Calculate the betwenness centrality, save it and then visualize the new graph on the map"
      ]
    },
    {
      "cell_type": "code",
      "execution_count": null,
      "metadata": {
        "id": "jsTLfyL1buMk"
      },
      "outputs": [],
      "source": [
        "def eval_centrality(g, edge_centrality_fn, node_centrality_fn, weight, inplace=True):\n",
        "    if not inplace:\n",
        "        g = g.copy()\n",
        "    nodes_centrality = node_centrality_fn(g, weight=weight)\n",
        "    edges_centrality = edge_centrality_fn(g, weight=weight)\n",
        "\n",
        "    for (u, v, i), centrality in edges_centrality.items():\n",
        "        g[u][v][i]['centrality'] = centrality\n",
        "\n",
        "    for node, centrality in nodes_centrality.items():\n",
        "        g.nodes[node]['centrality'] = centrality\n",
        "\n",
        "    return g"
      ]
    },
    {
      "cell_type": "code",
      "execution_count": null,
      "metadata": {
        "id": "pJhkP6tDvRhJ"
      },
      "outputs": [],
      "source": [
        "G_betweenness_Belluno = eval_centrality(G_Belluno_final, nx.edge_betweenness_centrality, nx.betweenness_centrality, 'travel_time')\n",
        "#pickle.dump(G_betweenness_Belluno, open('graphs/padua_large_betweenness.pickle', 'wb'))\n",
        "#G_betweenness_Belluno = pickle.load(open('graphs/padua_large_betweenness.pickle', 'rb'))"
      ]
    },
    {
      "cell_type": "markdown",
      "metadata": {
        "id": "9hP0X0Z9WDlc"
      },
      "source": [
        "Get the most popular roads of the intended city and plot the graphs of cumulative betweenness centrality about the streets and the junctions"
      ]
    },
    {
      "cell_type": "code",
      "execution_count": null,
      "metadata": {
        "id": "rY8Im8aVvRhL"
      },
      "outputs": [],
      "source": [
        "def get_most_popular_roads(G: nx.MultiDiGraph, n):\n",
        "    return [x[2] for x in sorted(G.edges(data=True), key=lambda x: -1 * x[2]['centrality'])[:n]]\n",
        "\n",
        "def concat_road_names(x):\n",
        "    if 'name' in x:\n",
        "        name = x['name']\n",
        "        if isinstance(name, list):\n",
        "            return \"-\".join(name)\n",
        "        return name\n",
        "    elif 'ref' in x:\n",
        "        return x['ref']"
      ]
    },
    {
      "cell_type": "code",
      "execution_count": null,
      "metadata": {
        "id": "pxwSbcXAvRhM",
        "pycharm": {
          "is_executing": true
        }
      },
      "outputs": [],
      "source": [
        "most_popular_roads = get_most_popular_roads(G_betweenness_Belluno, n=50)\n",
        "set([concat_road_names(x) for x in most_popular_roads if 'ref' in x or 'name' in x])"
      ]
    },
    {
      "cell_type": "code",
      "execution_count": null,
      "metadata": {
        "id": "pqAO8mT6vRhM",
        "pycharm": {
          "is_executing": true
        }
      },
      "outputs": [],
      "source": [
        "nodes, streets = ox.graph_to_gdfs(G_betweenness_Belluno)"
      ]
    },
    {
      "cell_type": "code",
      "execution_count": null,
      "metadata": {
        "id": "BgpadvY_vRhN"
      },
      "outputs": [],
      "source": [
        "fig, ax = plt.subplots(nrows=2)\n",
        "\n",
        "sns.ecdfplot(streets, x='centrality', ax=ax[0])\n",
        "ax[0].set_xscale('log')\n",
        "ax[0].set_title('Street centrality cumulative distribution')\n",
        "\n",
        "sns.ecdfplot(nodes, x='centrality', ax=ax[1])\n",
        "ax[1].set_xscale('log')\n",
        "ax[1].set_title('Junctions centrality cumulative distribution')\n",
        "\n",
        "fig.suptitle('Cumulative betweenness centrality of Belluno', fontsize=16)\n",
        "fig.set_size_inches(10, 10)\n",
        "fig.tight_layout()\n",
        "plt.savefig('figures/cdf-belluno.png', dpi=300)"
      ]
    },
    {
      "cell_type": "markdown",
      "metadata": {
        "collapsed": false,
        "id": "3rFdf5exvRhO"
      },
      "source": [
        "Select the top 2% of the streets ranked by betwenness centrality score and visualize them on the map"
      ]
    },
    {
      "cell_type": "code",
      "execution_count": null,
      "metadata": {
        "id": "-bJJFkd_vRhO"
      },
      "outputs": [],
      "source": [
        "nodes_th = nodes['centrality'].quantile(q=0.98)\n",
        "streets_th = streets['centrality'].quantile(q=0.98)\n",
        "nodes_th, streets_th\n",
        "small_nodes = nodes[nodes['centrality'] >= nodes_th]\n",
        "small_streets = streets[streets['centrality'] >= streets_th]\n",
        "m = folium.Map(location=ox.geocode('Belluno'))\n",
        "eg=folium.GeoJson(small_streets).add_to(m)\n",
        "ng=folium.GeoJson(small_nodes, marker=folium.CircleMarker(radius=3)).add_to(m)\n",
        "folium.features.GeoJsonPopup(fields=['ref', 'name', 'centrality']).add_to(eg)\n",
        "folium.features.GeoJsonPopup(fields=['centrality']).add_to(ng)\n",
        "eg.add_to(m)\n",
        "ng.add_to(m)\n",
        "m"
      ]
    },
    {
      "cell_type": "markdown",
      "metadata": {
        "id": "eyPqIaWFR0qF"
      },
      "source": [
        "##Padua"
      ]
    },
    {
      "cell_type": "code",
      "execution_count": null,
      "metadata": {
        "id": "biI0vQ4DR9hj"
      },
      "outputs": [],
      "source": [
        "nodes, streets = ox.graph_to_gdfs(G_Padova_final)\n",
        "m = folium.Map(location=ox.geocode(\"Padua\"))\n",
        "folium.GeoJson(streets).add_to(m)\n",
        "folium.GeoJson(nodes, marker=folium.CircleMarker(radius=3)).add_to(m)\n",
        "m"
      ]
    },
    {
      "cell_type": "markdown",
      "metadata": {
        "id": "ZcLaNoZIR9hk"
      },
      "source": [
        "Calculate the betwenness centrality, save it and then visualize the new graph on the map"
      ]
    },
    {
      "cell_type": "code",
      "execution_count": null,
      "metadata": {
        "id": "ipbh7wXpR9hk"
      },
      "outputs": [],
      "source": [
        "def eval_centrality(g, edge_centrality_fn, node_centrality_fn, weight, inplace=True):\n",
        "    if not inplace:\n",
        "        g = g.copy()\n",
        "    nodes_centrality = node_centrality_fn(g, weight=weight)\n",
        "    edges_centrality = edge_centrality_fn(g, weight=weight)\n",
        "\n",
        "    for (u, v, i), centrality in edges_centrality.items():\n",
        "        g[u][v][i]['centrality'] = centrality\n",
        "\n",
        "    for node, centrality in nodes_centrality.items():\n",
        "        g.nodes[node]['centrality'] = centrality\n",
        "\n",
        "    return g"
      ]
    },
    {
      "cell_type": "code",
      "execution_count": null,
      "metadata": {
        "id": "_2ss3SfOR9hl"
      },
      "outputs": [],
      "source": [
        "G_betweenness_Padova = eval_centrality(G_Padova_final, nx.edge_betweenness_centrality, nx.betweenness_centrality, 'travel_time')\n",
        "#pickle.dump(G_betweenness_Padova, open('graphs/padua_large_betweenness.pickle', 'wb'))\n",
        "#G_betweenness_Padova = pickle.load(open('graphs/padua_large_betweenness.pickle', 'rb'))"
      ]
    },
    {
      "cell_type": "markdown",
      "metadata": {
        "id": "OB5WODpvR9hn"
      },
      "source": [
        "Get the most popular roads of the intended city and plot the graphs of cumulative betweenness centrality about the streets and the junctions"
      ]
    },
    {
      "cell_type": "code",
      "execution_count": null,
      "metadata": {
        "id": "M2rkPuMSR9hn"
      },
      "outputs": [],
      "source": [
        "def get_most_popular_roads(G: nx.MultiDiGraph, n):\n",
        "    return [x[2] for x in sorted(G.edges(data=True), key=lambda x: -1 * x[2]['centrality'])[:n]]\n",
        "\n",
        "def concat_road_names(x):\n",
        "    if 'name' in x:\n",
        "        name = x['name']\n",
        "        if isinstance(name, list):\n",
        "            return \"-\".join(name)\n",
        "        return name\n",
        "    elif 'ref' in x:\n",
        "        return x['ref']"
      ]
    },
    {
      "cell_type": "code",
      "execution_count": null,
      "metadata": {
        "id": "zI3GNSm5R9hn",
        "pycharm": {
          "is_executing": true
        }
      },
      "outputs": [],
      "source": [
        "most_popular_roads = get_most_popular_roads(G_betweenness_Padova, n=50)\n",
        "set([concat_road_names(x) for x in most_popular_roads if 'ref' in x or 'name' in x])"
      ]
    },
    {
      "cell_type": "code",
      "execution_count": null,
      "metadata": {
        "id": "cFhn5sOHR9hn",
        "pycharm": {
          "is_executing": true
        }
      },
      "outputs": [],
      "source": [
        "nodes, streets = ox.graph_to_gdfs(G_betweenness_Padova)"
      ]
    },
    {
      "cell_type": "code",
      "execution_count": null,
      "metadata": {
        "id": "MeJGuUluR9hn"
      },
      "outputs": [],
      "source": [
        "fig, ax = plt.subplots(nrows=2)\n",
        "\n",
        "sns.ecdfplot(streets, x='centrality', ax=ax[0])\n",
        "ax[0].set_xscale('log')\n",
        "ax[0].set_title('Street centrality cumulative distribution')\n",
        "\n",
        "sns.ecdfplot(nodes, x='centrality', ax=ax[1])\n",
        "ax[1].set_xscale('log')\n",
        "ax[1].set_title('Junctions centrality cumulative distribution')\n",
        "\n",
        "fig.suptitle('Cumulative betweenness centrality of Padua', fontsize=16)\n",
        "fig.set_size_inches(10, 10)\n",
        "fig.tight_layout()\n",
        "plt.savefig('figures/cdf-padua.png', dpi=300)"
      ]
    },
    {
      "cell_type": "markdown",
      "metadata": {
        "collapsed": false,
        "id": "y_jmlA7kR9ho"
      },
      "source": [
        "Select the top 2% of the streets ranked by betwenness centrality score and visualize them on the map"
      ]
    },
    {
      "cell_type": "code",
      "execution_count": null,
      "metadata": {
        "id": "spde2dkbR9ho"
      },
      "outputs": [],
      "source": [
        "nodes_th = nodes['centrality'].quantile(q=0.98)\n",
        "streets_th = streets['centrality'].quantile(q=0.98)\n",
        "nodes_th, streets_th\n",
        "small_nodes = nodes[nodes['centrality'] >= nodes_th]\n",
        "small_streets = streets[streets['centrality'] >= streets_th]\n",
        "m = folium.Map(location=ox.geocode('Padua'))\n",
        "eg=folium.GeoJson(small_streets).add_to(m)\n",
        "ng=folium.GeoJson(small_nodes, marker=folium.CircleMarker(radius=3)).add_to(m)\n",
        "folium.features.GeoJsonPopup(fields=['ref', 'name', 'centrality']).add_to(eg)\n",
        "folium.features.GeoJsonPopup(fields=['centrality']).add_to(ng)\n",
        "eg.add_to(m)\n",
        "ng.add_to(m)\n",
        "m"
      ]
    },
    {
      "cell_type": "markdown",
      "metadata": {
        "id": "AmCV5pPNTFUF"
      },
      "source": [
        "##Rovigo"
      ]
    },
    {
      "cell_type": "code",
      "execution_count": null,
      "metadata": {
        "id": "lXeQPmWOTFUH"
      },
      "outputs": [],
      "source": [
        "nodes, streets = ox.graph_to_gdfs(G_Rovigo_final)\n",
        "m = folium.Map(location=ox.geocode(\"Rovigo\"))\n",
        "folium.GeoJson(streets).add_to(m)\n",
        "folium.GeoJson(nodes, marker=folium.CircleMarker(radius=3)).add_to(m)\n",
        "m"
      ]
    },
    {
      "cell_type": "markdown",
      "metadata": {
        "id": "jMJd05yTTFUH"
      },
      "source": [
        "Calculate the betwenness centrality, save it and then visualize the new graph on the map"
      ]
    },
    {
      "cell_type": "code",
      "execution_count": null,
      "metadata": {
        "id": "pVushqOUTFUI"
      },
      "outputs": [],
      "source": [
        "def eval_centrality(g, edge_centrality_fn, node_centrality_fn, weight, inplace=True):\n",
        "    if not inplace:\n",
        "        g = g.copy()\n",
        "    nodes_centrality = node_centrality_fn(g, weight=weight)\n",
        "    edges_centrality = edge_centrality_fn(g, weight=weight)\n",
        "\n",
        "    for (u, v, i), centrality in edges_centrality.items():\n",
        "        g[u][v][i]['centrality'] = centrality\n",
        "\n",
        "    for node, centrality in nodes_centrality.items():\n",
        "        g.nodes[node]['centrality'] = centrality\n",
        "\n",
        "    return g"
      ]
    },
    {
      "cell_type": "code",
      "execution_count": null,
      "metadata": {
        "id": "sqZIIexATFUI"
      },
      "outputs": [],
      "source": [
        "G_betweenness_Rovigo = eval_centrality(G_Rovigo_final, nx.edge_betweenness_centrality, nx.betweenness_centrality, 'travel_time')\n",
        "#pickle.dump(G_betweenness_Rovigo, open('graphs/padua_large_betweenness.pickle', 'wb'))\n",
        "#G_betweenness_Rovigo = pickle.load(open('graphs/padua_large_betweenness.pickle', 'rb'))"
      ]
    },
    {
      "cell_type": "markdown",
      "metadata": {
        "id": "ZINJTTo_TFUJ"
      },
      "source": [
        "Get the most popular roads of the intended city and plot the graphs of cumulative betweenness centrality about the streets and the junctions"
      ]
    },
    {
      "cell_type": "code",
      "execution_count": null,
      "metadata": {
        "id": "L0l1U3jmTFUK"
      },
      "outputs": [],
      "source": [
        "def get_most_popular_roads(G: nx.MultiDiGraph, n):\n",
        "    return [x[2] for x in sorted(G.edges(data=True), key=lambda x: -1 * x[2]['centrality'])[:n]]\n",
        "\n",
        "def concat_road_names(x):\n",
        "    if 'name' in x:\n",
        "        name = x['name']\n",
        "        if isinstance(name, list):\n",
        "            return \"-\".join(name)\n",
        "        return name\n",
        "    elif 'ref' in x:\n",
        "        return x['ref']"
      ]
    },
    {
      "cell_type": "code",
      "execution_count": null,
      "metadata": {
        "id": "DqnIQt5UTFUK",
        "pycharm": {
          "is_executing": true
        }
      },
      "outputs": [],
      "source": [
        "most_popular_roads = get_most_popular_roads(G_betweenness_Rovigo, n=50)\n",
        "set([concat_road_names(x) for x in most_popular_roads if 'ref' in x or 'name' in x])"
      ]
    },
    {
      "cell_type": "code",
      "execution_count": null,
      "metadata": {
        "id": "lVTPRT-hTFUL",
        "pycharm": {
          "is_executing": true
        }
      },
      "outputs": [],
      "source": [
        "nodes, streets = ox.graph_to_gdfs(G_betweenness_Rovigo)"
      ]
    },
    {
      "cell_type": "code",
      "execution_count": null,
      "metadata": {
        "id": "9fUqXAYyTFUL"
      },
      "outputs": [],
      "source": [
        "fig, ax = plt.subplots(nrows=2)\n",
        "\n",
        "sns.ecdfplot(streets, x='centrality', ax=ax[0])\n",
        "ax[0].set_xscale('log')\n",
        "ax[0].set_title('Street centrality cumulative distribution')\n",
        "\n",
        "sns.ecdfplot(nodes, x='centrality', ax=ax[1])\n",
        "ax[1].set_xscale('log')\n",
        "ax[1].set_title('Junctions centrality cumulative distribution')\n",
        "\n",
        "fig.suptitle('Cumulative betweenness centrality of Rovigo', fontsize=16)\n",
        "fig.set_size_inches(10, 10)\n",
        "fig.tight_layout()\n",
        "plt.savefig('figures/cdf-rovigo.png', dpi=300)"
      ]
    },
    {
      "cell_type": "markdown",
      "metadata": {
        "collapsed": false,
        "id": "Ysg6VjfFTFUM"
      },
      "source": [
        "Select the top 2% of the streets ranked by betwenness centrality score and visualize them on the map"
      ]
    },
    {
      "cell_type": "code",
      "execution_count": null,
      "metadata": {
        "id": "q3-_bhpTTFUN"
      },
      "outputs": [],
      "source": [
        "nodes_th = nodes['centrality'].quantile(q=0.98)\n",
        "streets_th = streets['centrality'].quantile(q=0.98)\n",
        "nodes_th, streets_th\n",
        "small_nodes = nodes[nodes['centrality'] >= nodes_th]\n",
        "small_streets = streets[streets['centrality'] >= streets_th]\n",
        "m = folium.Map(location=ox.geocode('Rovigo'))\n",
        "eg=folium.GeoJson(small_streets).add_to(m)\n",
        "ng=folium.GeoJson(small_nodes, marker=folium.CircleMarker(radius=3)).add_to(m)\n",
        "folium.features.GeoJsonPopup(fields=['ref', 'name', 'centrality']).add_to(eg)\n",
        "folium.features.GeoJsonPopup(fields=['centrality']).add_to(ng)\n",
        "eg.add_to(m)\n",
        "ng.add_to(m)\n",
        "m"
      ]
    },
    {
      "cell_type": "markdown",
      "metadata": {
        "id": "5Vn0CRaQTIBB"
      },
      "source": [
        "##Treviso"
      ]
    },
    {
      "cell_type": "code",
      "execution_count": null,
      "metadata": {
        "id": "TTJF8qjsTIBC"
      },
      "outputs": [],
      "source": [
        "nodes, streets = ox.graph_to_gdfs(G_Treviso_final)\n",
        "m = folium.Map(location=ox.geocode(\"Treviso\"))\n",
        "folium.GeoJson(streets).add_to(m)\n",
        "folium.GeoJson(nodes, marker=folium.CircleMarker(radius=3)).add_to(m)\n",
        "m"
      ]
    },
    {
      "cell_type": "markdown",
      "metadata": {
        "id": "NrD-nW8NTIBC"
      },
      "source": [
        "Calculate the betwenness centrality, save it and then visualize the new graph on the map"
      ]
    },
    {
      "cell_type": "code",
      "execution_count": null,
      "metadata": {
        "id": "NVHMFChqTIBC"
      },
      "outputs": [],
      "source": [
        "def eval_centrality(g, edge_centrality_fn, node_centrality_fn, weight, inplace=True):\n",
        "    if not inplace:\n",
        "        g = g.copy()\n",
        "    nodes_centrality = node_centrality_fn(g, weight=weight)\n",
        "    edges_centrality = edge_centrality_fn(g, weight=weight)\n",
        "\n",
        "    for (u, v, i), centrality in edges_centrality.items():\n",
        "        g[u][v][i]['centrality'] = centrality\n",
        "\n",
        "    for node, centrality in nodes_centrality.items():\n",
        "        g.nodes[node]['centrality'] = centrality\n",
        "\n",
        "    return g"
      ]
    },
    {
      "cell_type": "code",
      "execution_count": null,
      "metadata": {
        "id": "3JNdU97RTIBC"
      },
      "outputs": [],
      "source": [
        "G_betweenness_Treviso = eval_centrality(G_Treviso_final, nx.edge_betweenness_centrality, nx.betweenness_centrality, 'travel_time')\n",
        "#pickle.dump(G_betweenness_Treviso, open('graphs/padua_large_betweenness.pickle', 'wb'))\n",
        "#G_betweenness_Treviso = pickle.load(open('graphs/padua_large_betweenness.pickle', 'rb'))"
      ]
    },
    {
      "cell_type": "markdown",
      "metadata": {
        "id": "CnEp9M_STIBD"
      },
      "source": [
        "Get the most popular roads of the intended city and plot the graphs of cumulative betweenness centrality about the streets and the junctions"
      ]
    },
    {
      "cell_type": "code",
      "execution_count": null,
      "metadata": {
        "id": "ZUY_wBvkTIBD"
      },
      "outputs": [],
      "source": [
        "def get_most_popular_roads(G: nx.MultiDiGraph, n):\n",
        "    return [x[2] for x in sorted(G.edges(data=True), key=lambda x: -1 * x[2]['centrality'])[:n]]\n",
        "\n",
        "def concat_road_names(x):\n",
        "    if 'name' in x:\n",
        "        name = x['name']\n",
        "        if isinstance(name, list):\n",
        "            return \"-\".join(name)\n",
        "        return name\n",
        "    elif 'ref' in x:\n",
        "        return x['ref']"
      ]
    },
    {
      "cell_type": "code",
      "execution_count": null,
      "metadata": {
        "id": "TnRmqpL5TIBD",
        "pycharm": {
          "is_executing": true
        }
      },
      "outputs": [],
      "source": [
        "most_popular_roads = get_most_popular_roads(G_betweenness_Treviso, n=50)\n",
        "set([concat_road_names(x) for x in most_popular_roads if 'ref' in x or 'name' in x])"
      ]
    },
    {
      "cell_type": "code",
      "execution_count": null,
      "metadata": {
        "id": "vKuTu8KyTIBE",
        "pycharm": {
          "is_executing": true
        }
      },
      "outputs": [],
      "source": [
        "nodes, streets = ox.graph_to_gdfs(G_betweenness_Treviso)"
      ]
    },
    {
      "cell_type": "code",
      "execution_count": null,
      "metadata": {
        "id": "zpeJA-mdTIBE"
      },
      "outputs": [],
      "source": [
        "fig, ax = plt.subplots(nrows=2)\n",
        "\n",
        "sns.ecdfplot(streets, x='centrality', ax=ax[0])\n",
        "ax[0].set_xscale('log')\n",
        "ax[0].set_title('Street centrality cumulative distribution')\n",
        "\n",
        "sns.ecdfplot(nodes, x='centrality', ax=ax[1])\n",
        "ax[1].set_xscale('log')\n",
        "ax[1].set_title('Junctions centrality cumulative distribution')\n",
        "\n",
        "fig.suptitle('Cumulative betweenness centrality of Treviso', fontsize=16)\n",
        "fig.set_size_inches(10, 10)\n",
        "fig.tight_layout()\n",
        "plt.savefig('figures/cdf-treviso.png', dpi=300)"
      ]
    },
    {
      "cell_type": "markdown",
      "metadata": {
        "collapsed": false,
        "id": "nyIgYy0sTIBE"
      },
      "source": [
        "Select the top 2% of the streets ranked by betwenness centrality score and visualize them on the map"
      ]
    },
    {
      "cell_type": "code",
      "execution_count": null,
      "metadata": {
        "id": "Q7zlQTKTTIBE"
      },
      "outputs": [],
      "source": [
        "nodes_th = nodes['centrality'].quantile(q=0.98)\n",
        "streets_th = streets['centrality'].quantile(q=0.98)\n",
        "nodes_th, streets_th\n",
        "small_nodes = nodes[nodes['centrality'] >= nodes_th]\n",
        "small_streets = streets[streets['centrality'] >= streets_th]\n",
        "m = folium.Map(location=ox.geocode('Treviso'))\n",
        "eg=folium.GeoJson(small_streets).add_to(m)\n",
        "ng=folium.GeoJson(small_nodes, marker=folium.CircleMarker(radius=3)).add_to(m)\n",
        "folium.features.GeoJsonPopup(fields=['ref', 'name', 'centrality']).add_to(eg)\n",
        "folium.features.GeoJsonPopup(fields=['centrality']).add_to(ng)\n",
        "eg.add_to(m)\n",
        "ng.add_to(m)\n",
        "m"
      ]
    },
    {
      "cell_type": "markdown",
      "metadata": {
        "id": "ka0wG3BpTL30"
      },
      "source": [
        "##Verona"
      ]
    },
    {
      "cell_type": "code",
      "execution_count": null,
      "metadata": {
        "id": "GctckjlQTL32"
      },
      "outputs": [],
      "source": [
        "nodes, streets = ox.graph_to_gdfs(G_Verona_final)\n",
        "m = folium.Map(location=ox.geocode(\"Verona\"))\n",
        "folium.GeoJson(streets).add_to(m)\n",
        "folium.GeoJson(nodes, marker=folium.CircleMarker(radius=3)).add_to(m)\n",
        "m"
      ]
    },
    {
      "cell_type": "markdown",
      "metadata": {
        "id": "Fbk7uGpqTL34"
      },
      "source": [
        "Calculate the betwenness centrality, save it and then visualize the new graph on the map"
      ]
    },
    {
      "cell_type": "code",
      "execution_count": null,
      "metadata": {
        "id": "5yp5fnyFTL34"
      },
      "outputs": [],
      "source": [
        "def eval_centrality(g, edge_centrality_fn, node_centrality_fn, weight, inplace=True):\n",
        "    if not inplace:\n",
        "        g = g.copy()\n",
        "    nodes_centrality = node_centrality_fn(g, weight=weight)\n",
        "    edges_centrality = edge_centrality_fn(g, weight=weight)\n",
        "\n",
        "    for (u, v, i), centrality in edges_centrality.items():\n",
        "        g[u][v][i]['centrality'] = centrality\n",
        "\n",
        "    for node, centrality in nodes_centrality.items():\n",
        "        g.nodes[node]['centrality'] = centrality\n",
        "\n",
        "    return g"
      ]
    },
    {
      "cell_type": "code",
      "execution_count": null,
      "metadata": {
        "id": "L0JGAoDGTL35"
      },
      "outputs": [],
      "source": [
        "G_betweenness_Verona = eval_centrality(G_Verona_final, nx.edge_betweenness_centrality, nx.betweenness_centrality, 'travel_time')\n",
        "#pickle.dump(G_betweenness_Verona, open('graphs/padua_large_betweenness.pickle', 'wb'))\n",
        "#G_betweenness_Verona = pickle.load(open('graphs/padua_large_betweenness.pickle', 'rb'))"
      ]
    },
    {
      "cell_type": "markdown",
      "metadata": {
        "id": "mm_S__ecTL36"
      },
      "source": [
        "Get the most popular roads of the intended city and plot the graphs of cumulative betweenness centrality about the streets and the junctions"
      ]
    },
    {
      "cell_type": "code",
      "execution_count": null,
      "metadata": {
        "id": "tjqbReHSTL38"
      },
      "outputs": [],
      "source": [
        "def get_most_popular_roads(G: nx.MultiDiGraph, n):\n",
        "    return [x[2] for x in sorted(G.edges(data=True), key=lambda x: -1 * x[2]['centrality'])[:n]]\n",
        "\n",
        "def concat_road_names(x):\n",
        "    if 'name' in x:\n",
        "        name = x['name']\n",
        "        if isinstance(name, list):\n",
        "            return \"-\".join(name)\n",
        "        return name\n",
        "    elif 'ref' in x:\n",
        "        return x['ref']"
      ]
    },
    {
      "cell_type": "code",
      "execution_count": null,
      "metadata": {
        "id": "CarlyZdCTL39",
        "pycharm": {
          "is_executing": true
        }
      },
      "outputs": [],
      "source": [
        "most_popular_roads = get_most_popular_roads(G_betweenness_Verona, n=50)\n",
        "set([concat_road_names(x) for x in most_popular_roads if 'ref' in x or 'name' in x])"
      ]
    },
    {
      "cell_type": "code",
      "execution_count": null,
      "metadata": {
        "id": "7gC8WUnITL3-",
        "pycharm": {
          "is_executing": true
        }
      },
      "outputs": [],
      "source": [
        "nodes, streets = ox.graph_to_gdfs(G_betweenness_Verona)"
      ]
    },
    {
      "cell_type": "code",
      "execution_count": null,
      "metadata": {
        "id": "usKUHNW3TL3-"
      },
      "outputs": [],
      "source": [
        "fig, ax = plt.subplots(nrows=2)\n",
        "\n",
        "sns.ecdfplot(streets, x='centrality', ax=ax[0])\n",
        "ax[0].set_xscale('log')\n",
        "ax[0].set_title('Street centrality cumulative distribution')\n",
        "\n",
        "sns.ecdfplot(nodes, x='centrality', ax=ax[1])\n",
        "ax[1].set_xscale('log')\n",
        "ax[1].set_title('Junctions centrality cumulative distribution')\n",
        "\n",
        "fig.suptitle('Cumulative betweenness centrality of Verona', fontsize=16)\n",
        "fig.set_size_inches(10, 10)\n",
        "fig.tight_layout()\n",
        "plt.savefig('figures/cdf-verona.png', dpi=300)"
      ]
    },
    {
      "cell_type": "markdown",
      "metadata": {
        "collapsed": false,
        "id": "JEIulNorTL3_"
      },
      "source": [
        "Select the top 2% of the streets ranked by betwenness centrality score and visualize them on the map"
      ]
    },
    {
      "cell_type": "code",
      "execution_count": null,
      "metadata": {
        "id": "kxaTk__2TL3_"
      },
      "outputs": [],
      "source": [
        "nodes_th = nodes['centrality'].quantile(q=0.98)\n",
        "streets_th = streets['centrality'].quantile(q=0.98)\n",
        "nodes_th, streets_th\n",
        "small_nodes = nodes[nodes['centrality'] >= nodes_th]\n",
        "small_streets = streets[streets['centrality'] >= streets_th]\n",
        "m = folium.Map(location=ox.geocode('Verona'))\n",
        "eg=folium.GeoJson(small_streets).add_to(m)\n",
        "ng=folium.GeoJson(small_nodes, marker=folium.CircleMarker(radius=3)).add_to(m)\n",
        "folium.features.GeoJsonPopup(fields=['ref', 'name', 'centrality']).add_to(eg)\n",
        "folium.features.GeoJsonPopup(fields=['centrality']).add_to(ng)\n",
        "eg.add_to(m)\n",
        "ng.add_to(m)\n",
        "m"
      ]
    },
    {
      "cell_type": "markdown",
      "metadata": {
        "id": "5KnQjY4MTM7U"
      },
      "source": [
        "##Vicenza"
      ]
    },
    {
      "cell_type": "code",
      "execution_count": null,
      "metadata": {
        "id": "eOKP_fxoTM7V"
      },
      "outputs": [],
      "source": [
        "nodes, streets = ox.graph_to_gdfs(G_Vicenza_final)\n",
        "m = folium.Map(location=ox.geocode(\"Vicenza\"))\n",
        "folium.GeoJson(streets).add_to(m)\n",
        "folium.GeoJson(nodes, marker=folium.CircleMarker(radius=3)).add_to(m)\n",
        "m"
      ]
    },
    {
      "cell_type": "markdown",
      "metadata": {
        "id": "jjdLO5VHTM7V"
      },
      "source": [
        "Calculate the betwenness centrality, save it and then visualize the new graph on the map"
      ]
    },
    {
      "cell_type": "code",
      "execution_count": null,
      "metadata": {
        "id": "ud88eOKTTM7V"
      },
      "outputs": [],
      "source": [
        "def eval_centrality(g, edge_centrality_fn, node_centrality_fn, weight, inplace=True):\n",
        "    if not inplace:\n",
        "        g = g.copy()\n",
        "    nodes_centrality = node_centrality_fn(g, weight=weight)\n",
        "    edges_centrality = edge_centrality_fn(g, weight=weight)\n",
        "\n",
        "    for (u, v, i), centrality in edges_centrality.items():\n",
        "        g[u][v][i]['centrality'] = centrality\n",
        "\n",
        "    for node, centrality in nodes_centrality.items():\n",
        "        g.nodes[node]['centrality'] = centrality\n",
        "\n",
        "    return g"
      ]
    },
    {
      "cell_type": "code",
      "execution_count": null,
      "metadata": {
        "id": "-fgRvX7aTM7V"
      },
      "outputs": [],
      "source": [
        "G_betweenness_Vicenza = eval_centrality(G_Vicenza_final, nx.edge_betweenness_centrality, nx.betweenness_centrality, 'travel_time')\n",
        "#pickle.dump(G_betweenness_Vicenza, open('graphs/padua_large_betweenness.pickle', 'wb'))\n",
        "#G_betweenness_Vicenza = pickle.load(open('graphs/padua_large_betweenness.pickle', 'rb'))"
      ]
    },
    {
      "cell_type": "markdown",
      "metadata": {
        "id": "K7BBCQYSTM7W"
      },
      "source": [
        "Get the most popular roads of the intended city and plot the graphs of cumulative betweenness centrality about the streets and the junctions"
      ]
    },
    {
      "cell_type": "code",
      "execution_count": null,
      "metadata": {
        "id": "PqJuNOzjTM7X"
      },
      "outputs": [],
      "source": [
        "def get_most_popular_roads(G: nx.MultiDiGraph, n):\n",
        "    return [x[2] for x in sorted(G.edges(data=True), key=lambda x: -1 * x[2]['centrality'])[:n]]\n",
        "\n",
        "def concat_road_names(x):\n",
        "    if 'name' in x:\n",
        "        name = x['name']\n",
        "        if isinstance(name, list):\n",
        "            return \"-\".join(name)\n",
        "        return name\n",
        "    elif 'ref' in x:\n",
        "        return x['ref']"
      ]
    },
    {
      "cell_type": "code",
      "execution_count": null,
      "metadata": {
        "id": "Yc9PflFZTM7X",
        "pycharm": {
          "is_executing": true
        }
      },
      "outputs": [],
      "source": [
        "most_popular_roads = get_most_popular_roads(G_betweenness_Vicenza, n=50)\n",
        "set([concat_road_names(x) for x in most_popular_roads if 'ref' in x or 'name' in x])"
      ]
    },
    {
      "cell_type": "code",
      "execution_count": null,
      "metadata": {
        "id": "cTHhsgk_TM7X",
        "pycharm": {
          "is_executing": true
        }
      },
      "outputs": [],
      "source": [
        "nodes, streets = ox.graph_to_gdfs(G_betweenness_Vicenza)"
      ]
    },
    {
      "cell_type": "code",
      "execution_count": null,
      "metadata": {
        "id": "SeEg9CmVTM7X"
      },
      "outputs": [],
      "source": [
        "fig, ax = plt.subplots(nrows=2)\n",
        "\n",
        "sns.ecdfplot(streets, x='centrality', ax=ax[0])\n",
        "ax[0].set_xscale('log')\n",
        "ax[0].set_title('Street centrality cumulative distribution')\n",
        "\n",
        "sns.ecdfplot(nodes, x='centrality', ax=ax[1])\n",
        "ax[1].set_xscale('log')\n",
        "ax[1].set_title('Junctions centrality cumulative distribution')\n",
        "\n",
        "fig.suptitle('Cumulative betweenness centrality of Vicenza', fontsize=16)\n",
        "fig.set_size_inches(10, 10)\n",
        "fig.tight_layout()\n",
        "plt.savefig('figures/cdf-vicenza.png', dpi=300)"
      ]
    },
    {
      "cell_type": "markdown",
      "metadata": {
        "collapsed": false,
        "id": "7wZ4dvRpTM7Y"
      },
      "source": [
        "Select the top 2% of the streets ranked by betwenness centrality score and visualize them on the map"
      ]
    },
    {
      "cell_type": "code",
      "execution_count": null,
      "metadata": {
        "id": "cbdqLUMVTM7Y"
      },
      "outputs": [],
      "source": [
        "nodes_th = nodes['centrality'].quantile(q=0.98)\n",
        "streets_th = streets['centrality'].quantile(q=0.98)\n",
        "nodes_th, streets_th\n",
        "small_nodes = nodes[nodes['centrality'] >= nodes_th]\n",
        "small_streets = streets[streets['centrality'] >= streets_th]\n",
        "m = folium.Map(location=ox.geocode('Vicenza'))\n",
        "eg=folium.GeoJson(small_streets).add_to(m)\n",
        "ng=folium.GeoJson(small_nodes, marker=folium.CircleMarker(radius=3)).add_to(m)\n",
        "folium.features.GeoJsonPopup(fields=['ref', 'name', 'centrality']).add_to(eg)\n",
        "folium.features.GeoJsonPopup(fields=['centrality']).add_to(ng)\n",
        "eg.add_to(m)\n",
        "ng.add_to(m)\n",
        "m"
      ]
    }
  ],
  "metadata": {
    "colab": {
      "provenance": [],
      "collapsed_sections": [
        "p1OEOI_pWNTA",
        "QFTmxqr8RRnx",
        "eyPqIaWFR0qF",
        "AmCV5pPNTFUF",
        "5Vn0CRaQTIBB",
        "ka0wG3BpTL30",
        "5KnQjY4MTM7U"
      ]
    },
    "kernelspec": {
      "display_name": "Python 3",
      "language": "python",
      "name": "python3"
    },
    "language_info": {
      "codemirror_mode": {
        "name": "ipython",
        "version": 2
      },
      "file_extension": ".py",
      "mimetype": "text/x-python",
      "name": "python",
      "nbconvert_exporter": "python",
      "pygments_lexer": "ipython2",
      "version": "2.7.6"
    }
  },
  "nbformat": 4,
  "nbformat_minor": 0
}